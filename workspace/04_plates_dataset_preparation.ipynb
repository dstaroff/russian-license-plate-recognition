{
 "cells": [
  {
   "cell_type": "markdown",
   "source": [
    "# Step 4: License plate characters dataset preparation"
   ],
   "metadata": {
    "collapsed": false,
    "pycharm": {
     "name": "#%% md\n"
    }
   }
  },
  {
   "cell_type": "markdown",
   "source": [
    "## Imports"
   ],
   "metadata": {
    "collapsed": false
   }
  },
  {
   "cell_type": "code",
   "execution_count": 1,
   "metadata": {
    "collapsed": true
   },
   "outputs": [],
   "source": [
    "from src.local_utils.constants import (\n",
    "    RU_PLATES_IMAGES_PATH,\n",
    "    RU_PLATES_ANNOTATIONS_PATH,\n",
    "    PLATES_TRAINING_SET_FILE,\n",
    "    PLATES_VALIDATION_SET_FILE,\n",
    "    RU_PLATES_LABELS_FILE,\n",
    ")\n",
    "from src.local_utils.dataset import (\n",
    "    clean_dataset,\n",
    "    split_dataset,\n",
    "    get_labels,\n",
    ")"
   ]
  },
  {
   "cell_type": "markdown",
   "source": [
    "## Clean dataset"
   ],
   "metadata": {
    "collapsed": false,
    "pycharm": {
     "name": "#%% md\n"
    }
   }
  },
  {
   "cell_type": "code",
   "execution_count": 2,
   "outputs": [
    {
     "name": "stdout",
     "output_type": "stream",
     "text": [
      "Cleaning dataset\n",
      "\tVerifying annotations\n",
      "\t\tAnnotation \"00.xml\" for \"00.jpg\" verified\n",
      "\t\tAnnotation \"01.xml\" for \"01.jpg\" verified\n",
      "\t\tAnnotation \"02.xml\" for \"02.jpg\" verified\n",
      "\t\tAnnotation \"03.xml\" for \"03.jpg\" verified\n",
      "\t\tAnnotation \"04.xml\" for \"04.jpg\" verified\n",
      "\t\tAnnotation \"05.xml\" for \"05.jpg\" verified\n",
      "\t\tAnnotation \"06.xml\" for \"06.jpg\" verified\n",
      "\t\tAnnotation \"07.xml\" for \"07.jpg\" verified\n",
      "\t\tAnnotation \"08.xml\" for \"08.jpg\" verified\n",
      "\t\tAnnotation \"09.xml\" for \"09.jpg\" verified\n",
      "\t\tAnnotation \"10.xml\" for \"10.jpg\" verified\n",
      "\t\tAnnotation \"11.xml\" for \"11.jpg\" verified\n",
      "\t\tAnnotation \"12.xml\" for \"12.jpg\" verified\n",
      "\t\tAnnotation \"13.xml\" for \"13.jpg\" verified\n",
      "\t\tAnnotation \"14.xml\" for \"14.jpg\" verified\n",
      "\t\tAnnotation \"15.xml\" for \"15.jpg\" verified\n",
      "\t\tAnnotation \"16.xml\" for \"16.jpg\" verified\n",
      "\t\tAnnotation \"17.xml\" for \"17.jpg\" verified\n",
      "\t\tAnnotation \"18.xml\" for \"18.jpg\" verified\n",
      "\t\tAnnotation \"19.xml\" for \"19.jpg\" verified\n",
      "\t\tAnnotation \"20.xml\" for \"20.jpg\" verified\n",
      "\t\tAnnotation \"21.xml\" for \"21.jpg\" verified\n",
      "\t\tAnnotation \"22.xml\" for \"22.jpg\" verified\n",
      "\t\tAnnotation \"23.xml\" for \"23.jpg\" verified\n",
      "\t\tAnnotation \"24.xml\" for \"24.jpg\" verified\n",
      "\t\tAnnotation \"25.xml\" for \"25.jpg\" verified\n",
      "\t\tAnnotation \"26.xml\" for \"26.jpg\" verified\n",
      "\t\tAnnotation \"27.xml\" for \"27.jpg\" verified\n",
      "\t\tAnnotation \"28.xml\" for \"28.jpg\" verified\n",
      "\t\tAnnotation \"29.xml\" for \"29.jpg\" verified\n",
      "\t\tAnnotation \"30.xml\" for \"30.jpg\" verified\n",
      "\t\tAnnotation \"31.xml\" for \"31.jpg\" verified\n",
      "\t\tAnnotation \"32.xml\" for \"32.jpg\" verified\n",
      "\t\tAnnotation \"33.xml\" for \"33.jpg\" verified\n",
      "\t\tAnnotation \"34.xml\" for \"34.jpg\" verified\n",
      "\t\tAnnotation \"35.xml\" for \"35.jpg\" verified\n",
      "\t\tAnnotation \"36.xml\" for \"36.jpg\" verified\n",
      "\t\tAnnotation \"37.xml\" for \"37.jpg\" verified\n",
      "\t\tAnnotation \"38.xml\" for \"38.jpg\" verified\n",
      "\t\tAnnotation \"39.xml\" for \"39.jpg\" verified\n",
      "\t\tAnnotation \"40.xml\" for \"40.jpg\" verified\n",
      "\t\tAnnotation \"41.xml\" for \"41.jpg\" verified\n",
      "\t\tAnnotation \"42.xml\" for \"42.jpg\" verified\n",
      "\t\tAnnotation \"43.xml\" for \"43.jpg\" verified\n",
      "\t\tAnnotation \"44.xml\" for \"44.jpg\" verified\n",
      "\t\tAnnotation \"45.xml\" for \"45.jpg\" verified\n",
      "\t\tAnnotation \"46.xml\" for \"46.jpg\" verified\n",
      "\t\tAnnotation \"47.xml\" for \"47.jpg\" verified\n",
      "\t\tAnnotation \"48.xml\" for \"48.jpg\" verified\n",
      "\t\tAnnotation \"49.xml\" for \"49.jpg\" verified\n",
      "\t\tAnnotation \"50.xml\" for \"50.jpg\" verified\n",
      "\t\tAnnotation \"51.xml\" for \"51.jpg\" verified\n",
      "\t\tAnnotation \"52.xml\" for \"52.jpg\" verified\n",
      "\t\tAnnotation \"53.xml\" for \"53.jpg\" verified\n",
      "\t\tAnnotation \"54.xml\" for \"54.jpg\" verified\n",
      "\t\tAnnotation \"55.xml\" for \"55.jpg\" verified\n",
      "\t\tAnnotation \"56.xml\" for \"56.jpg\" verified\n",
      "\t\tAnnotation \"57.xml\" for \"57.jpg\" verified\n",
      "\t\tAnnotation \"58.xml\" for \"58.jpg\" verified\n",
      "\t\tAnnotation \"59.xml\" for \"59.jpg\" verified\n",
      "\t\tAnnotation \"60.xml\" for \"60.jpg\" verified\n",
      "\t\tAnnotation \"61.xml\" for \"61.jpg\" verified\n",
      "\t\tAnnotation \"62.xml\" for \"62.jpg\" verified\n",
      "\t\tAnnotation \"63.xml\" for \"63.jpg\" verified\n",
      "\t\tAnnotation \"64.xml\" for \"64.jpg\" verified\n",
      "\t\tAnnotation \"65.xml\" for \"65.jpg\" verified\n",
      "\t\tAnnotation \"66.xml\" for \"66.jpg\" verified\n",
      "\t\tAnnotation \"67.xml\" for \"67.jpg\" verified\n",
      "\t\tAnnotation \"68.xml\" for \"68.jpg\" verified\n",
      "\t\tAnnotation \"69.xml\" for \"69.jpg\" verified\n",
      "\t\tAnnotation \"70.xml\" for \"70.jpg\" verified\n",
      "\t\tAnnotation \"71.xml\" for \"71.jpg\" verified\n",
      "\t\tAnnotation \"72.xml\" for \"72.jpg\" verified\n",
      "\t\tAnnotation \"73.xml\" for \"73.jpg\" verified\n",
      "\t\tAnnotation \"74.xml\" for \"74.jpg\" verified\n",
      "\t\tAnnotation \"75.xml\" for \"75.jpg\" verified\n",
      "\t\tAnnotation \"76.xml\" for \"76.jpg\" verified\n",
      "\t\tAnnotation \"77.xml\" for \"77.jpg\" verified\n",
      "\t\tAnnotation \"78.xml\" for \"78.jpg\" verified\n",
      "\t\tAnnotation \"79.xml\" for \"79.jpg\" verified\n",
      "\t\tAnnotation \"80.xml\" for \"80.jpg\" verified\n",
      "\t\tAnnotation \"81.xml\" for \"81.jpg\" verified\n",
      "\t\tAnnotation \"82.xml\" for \"82.jpg\" verified\n",
      "\t\tAnnotation \"83.xml\" for \"83.jpg\" verified\n",
      "\t\tAnnotation \"84.xml\" for \"84.jpg\" verified\n",
      "\t\tAnnotation \"85.xml\" for \"85.jpg\" verified\n",
      "\t\tAnnotation \"86.xml\" for \"86.jpg\" verified\n",
      "\t\tAnnotation \"87.xml\" for \"87.jpg\" verified\n",
      "\t\tAnnotation \"88.xml\" for \"88.jpg\" verified\n",
      "\t\tAnnotation \"89.xml\" for \"89.jpg\" verified\n",
      "\t\tAnnotation \"90.xml\" for \"90.jpg\" verified\n",
      "\tRemoving non-valid images\n",
      "\tFilling the gaps\n",
      "\n",
      "\tDone\n"
     ]
    }
   ],
   "source": [
    "clean_dataset(RU_PLATES_IMAGES_PATH, RU_PLATES_ANNOTATIONS_PATH)"
   ],
   "metadata": {
    "collapsed": false,
    "pycharm": {
     "name": "#%%\n"
    }
   }
  },
  {
   "cell_type": "markdown",
   "source": [
    "## Split dataset"
   ],
   "metadata": {
    "collapsed": false
   }
  },
  {
   "cell_type": "code",
   "execution_count": 3,
   "outputs": [
    {
     "name": "stdout",
     "output_type": "stream",
     "text": [
      "Splitting dataset to training & validation sets\n",
      "\tDataset size: 91\n",
      "\tUsing validation split = 20.0%\n",
      "\t\tTraining set size: 73\n",
      "\t\tValidation set size: 18\n",
      "\tTraining set:\n",
      "\t\t00.jpg 00.xml\n",
      "\t\t01.jpg 01.xml\n",
      "\t\t02.jpg 02.xml\n",
      "\t\t03.jpg 03.xml\n",
      "\t\t05.jpg 05.xml\n",
      "\t\t06.jpg 06.xml\n",
      "\t\t08.jpg 08.xml\n",
      "\t\t10.jpg 10.xml\n",
      "\t\t11.jpg 11.xml\n",
      "\t\t12.jpg 12.xml\n",
      "\t\t13.jpg 13.xml\n",
      "\t\t14.jpg 14.xml\n",
      "\t\t15.jpg 15.xml\n",
      "\t\t16.jpg 16.xml\n",
      "\t\t17.jpg 17.xml\n",
      "\t\t18.jpg 18.xml\n",
      "\t\t20.jpg 20.xml\n",
      "\t\t24.jpg 24.xml\n",
      "\t\t25.jpg 25.xml\n",
      "\t\t26.jpg 26.xml\n",
      "\t\t27.jpg 27.xml\n",
      "\t\t28.jpg 28.xml\n",
      "\t\t29.jpg 29.xml\n",
      "\t\t30.jpg 30.xml\n",
      "\t\t31.jpg 31.xml\n",
      "\t\t32.jpg 32.xml\n",
      "\t\t33.jpg 33.xml\n",
      "\t\t34.jpg 34.xml\n",
      "\t\t35.jpg 35.xml\n",
      "\t\t36.jpg 36.xml\n",
      "\t\t38.jpg 38.xml\n",
      "\t\t39.jpg 39.xml\n",
      "\t\t40.jpg 40.xml\n",
      "\t\t41.jpg 41.xml\n",
      "\t\t42.jpg 42.xml\n",
      "\t\t43.jpg 43.xml\n",
      "\t\t44.jpg 44.xml\n",
      "\t\t45.jpg 45.xml\n",
      "\t\t46.jpg 46.xml\n",
      "\t\t47.jpg 47.xml\n",
      "\t\t48.jpg 48.xml\n",
      "\t\t49.jpg 49.xml\n",
      "\t\t50.jpg 50.xml\n",
      "\t\t53.jpg 53.xml\n",
      "\t\t54.jpg 54.xml\n",
      "\t\t55.jpg 55.xml\n",
      "\t\t57.jpg 57.xml\n",
      "\t\t58.jpg 58.xml\n",
      "\t\t59.jpg 59.xml\n",
      "\t\t60.jpg 60.xml\n",
      "\t\t62.jpg 62.xml\n",
      "\t\t64.jpg 64.xml\n",
      "\t\t65.jpg 65.xml\n",
      "\t\t66.jpg 66.xml\n",
      "\t\t67.jpg 67.xml\n",
      "\t\t68.jpg 68.xml\n",
      "\t\t69.jpg 69.xml\n",
      "\t\t71.jpg 71.xml\n",
      "\t\t72.jpg 72.xml\n",
      "\t\t73.jpg 73.xml\n",
      "\t\t74.jpg 74.xml\n",
      "\t\t75.jpg 75.xml\n",
      "\t\t76.jpg 76.xml\n",
      "\t\t77.jpg 77.xml\n",
      "\t\t79.jpg 79.xml\n",
      "\t\t80.jpg 80.xml\n",
      "\t\t81.jpg 81.xml\n",
      "\t\t82.jpg 82.xml\n",
      "\t\t83.jpg 83.xml\n",
      "\t\t85.jpg 85.xml\n",
      "\t\t88.jpg 88.xml\n",
      "\t\t89.jpg 89.xml\n",
      "\t\t90.jpg 90.xml\n",
      "\tValidation set:\n",
      "\t\t04.jpg 04.xml\n",
      "\t\t07.jpg 07.xml\n",
      "\t\t09.jpg 09.xml\n",
      "\t\t19.jpg 19.xml\n",
      "\t\t21.jpg 21.xml\n",
      "\t\t22.jpg 22.xml\n",
      "\t\t23.jpg 23.xml\n",
      "\t\t37.jpg 37.xml\n",
      "\t\t51.jpg 51.xml\n",
      "\t\t52.jpg 52.xml\n",
      "\t\t56.jpg 56.xml\n",
      "\t\t61.jpg 61.xml\n",
      "\t\t63.jpg 63.xml\n",
      "\t\t70.jpg 70.xml\n",
      "\t\t78.jpg 78.xml\n",
      "\t\t84.jpg 84.xml\n",
      "\t\t86.jpg 86.xml\n",
      "\t\t87.jpg 87.xml\n",
      "\n",
      "\tDone\n"
     ]
    }
   ],
   "source": [
    "split_dataset(RU_PLATES_IMAGES_PATH, RU_PLATES_ANNOTATIONS_PATH, PLATES_TRAINING_SET_FILE, PLATES_VALIDATION_SET_FILE)"
   ],
   "metadata": {
    "collapsed": false,
    "pycharm": {
     "name": "#%%\n"
    }
   }
  },
  {
   "cell_type": "markdown",
   "source": [
    "## Get labels"
   ],
   "metadata": {
    "collapsed": false
   }
  },
  {
   "cell_type": "code",
   "execution_count": 5,
   "outputs": [
    {
     "name": "stdout",
     "output_type": "stream",
     "text": [
      "Labels:\n",
      "\t0\n",
      "\t1\n",
      "\t2\n",
      "\t3\n",
      "\t4\n",
      "\t5\n",
      "\t6\n",
      "\t7\n",
      "\t8\n",
      "\t9\n",
      "\tA\n",
      "\tB\n",
      "\tC\n",
      "\tE\n",
      "\tH\n",
      "\tK\n",
      "\tM\n",
      "\tO\n",
      "\tP\n",
      "\tT\n",
      "\tX\n",
      "\tY\n",
      "\n",
      "\tDone\n"
     ]
    }
   ],
   "source": [
    "get_labels(RU_PLATES_ANNOTATIONS_PATH, RU_PLATES_LABELS_FILE)"
   ],
   "metadata": {
    "collapsed": false,
    "pycharm": {
     "name": "#%%\n"
    }
   }
  }
 ],
 "metadata": {
  "kernelspec": {
   "display_name": "Python 3",
   "language": "python",
   "name": "python3"
  },
  "language_info": {
   "codemirror_mode": {
    "name": "ipython",
    "version": 2
   },
   "file_extension": ".py",
   "mimetype": "text/x-python",
   "name": "python",
   "nbconvert_exporter": "python",
   "pygments_lexer": "ipython2",
   "version": "2.7.6"
  }
 },
 "nbformat": 4,
 "nbformat_minor": 0
}